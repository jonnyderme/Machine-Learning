{
  "cells": [
    {
      "cell_type": "markdown",
      "metadata": {
        "id": "Pl4WglAvb2rm"
      },
      "source": [
        "## Εργασία 1 ##\n",
        "\n",
        "Καλωσήρθατε στην πρώτη σας εργασία. Η εργασία αυτή έχει σκοπό να σας βοηθήσει να εμπεδώσετε τα γραμμικά μοντέλα.\n",
        "\n",
        "Τα Jupyter Notebooks είναι αλληλεπιδραστικά περιβάλλοντα προγραμματισμού ενσωματωμένα σε μια ιστοσελίδα. Στο μάθημα \"Μηχανική Μάθηση\" τα χρησιμοποιούμε στο πρακτικό μέρος του μαθήματος.\n",
        "\n",
        "Στην εργασία αυτή θα πρέπει να συμπληρώσετε κώδικα Python 3 στα σημεία που αναφέρουν # YOUR CODE HERE. Μην τροποποιείτε τον κώδικα που βρίσκεται εκτός αυτών των περιοχών.\n",
        "\n",
        "Πρωτού παραδόσετε την εργασία σας σιγουρευτείτε ότι ο κώδικας σε όλα τα κελιά τρέχει σωστά. Για το σκοπό αυτό επιλέξτε από το μενού **Χρόνος εκτέλεσης (runtime) -> Επανεκίνηση περιόδου λειτουργίας και εκτέλεση όλων**.\n",
        "\n",
        "Συμπληρώστε το όνομα (**NAME**) και το **AEM** σας παρακάτω:"
      ]
    },
    {
      "cell_type": "code",
      "execution_count": null,
      "metadata": {
        "id": "7hLsNeugb2rs"
      },
      "outputs": [],
      "source": [
        "NAME = \"Ιωάννης Δεϊρμεντζόγλου\"\n",
        "AEM = \"10015\""
      ]
    },
    {
      "cell_type": "markdown",
      "metadata": {
        "id": "duX9o1i3b2rw"
      },
      "source": [
        "---\n",
        "## Μέρος A: NumPy (1 μονάδα)\n",
        "\n",
        "Η βιβλιοθήκη [**NumPy**](https://numpy.org/) είναι η βασική βιβιλιοθήκη για επιστημονικούς υπολογισμούς σε Python. Παρέχει ένα υψηλής επίδοσης αντικείμενο για την αποθήκευση πολυδιάστατων πινάκων και εργαλεία για επεξεργασίας αυτών των πινάκων.\n",
        "\n",
        "Μπορείτε να συμβουλεύεστε την τεκμηρίωση ([NumPy Doc](https://numpy.org/doc/1.18/user/quickstart.html)) αυτών των βιβλιοθηκών κατά την εκπόνηση της εργασίας.\n",
        "\n",
        "Κατά σύμβαση πάντα φορτώνουμε τη βιβλιοθήκη με τον ακόλουθο τρόπο:"
      ]
    },
    {
      "cell_type": "code",
      "execution_count": null,
      "metadata": {
        "id": "VsuAoeIhb2rx"
      },
      "outputs": [],
      "source": [
        "# Run this cell\n",
        "import numpy as np"
      ]
    },
    {
      "cell_type": "markdown",
      "metadata": {
        "id": "uiiqCzyfb2ry"
      },
      "source": [
        "**A1**: Ορίστε συνάρτηση που επιστρέφει πίνακα 2 διδαστάσεων με r γραμμές και c στήλες και περιέχει τυχαίες τιμές από 0 έως 1 με τη βοήθεια της συνάρτησης np.random.rand. Ακολουθούν τεστ ορθής λειτουργίας της συνάρτησης."
      ]
    },
    {
      "cell_type": "code",
      "execution_count": null,
      "metadata": {
        "deletable": false,
        "nbgrader": {
          "cell_type": "code",
          "checksum": "d92c1990a8861a674b06f1d88e60c7db",
          "grade": false,
          "grade_id": "cell-4dd473645ec1eb64",
          "locked": false,
          "schema_version": 3,
          "solution": true,
          "task": false
        },
        "id": "1cQXjUdTb2rz"
      },
      "outputs": [],
      "source": [
        "def random_2d_array(r, c):\n",
        "    \"\"\"Επιστρέφει διδιάστατο πίνακα με r γραμμές και c στήλες.\n",
        "    \"\"\"\n",
        "    return np.random.rand(r, c)"
      ]
    },
    {
      "cell_type": "code",
      "execution_count": null,
      "metadata": {
        "deletable": false,
        "editable": false,
        "nbgrader": {
          "cell_type": "code",
          "checksum": "58c6d24b66e1df195036c8d5d1df487c",
          "grade": true,
          "grade_id": "random_2d_array_correct_shape",
          "locked": true,
          "points": 5,
          "schema_version": 3,
          "solution": false,
          "task": false
        },
        "id": "QhTNIxneb2rz"
      },
      "outputs": [],
      "source": [
        "\"\"\"Τεστ επιστροφής πίνακα με τις σωστές διαστάσεις\"\"\"\n",
        "assert np.shape(random_2d_array(3, 5)) == (3, 5)\n",
        "assert np.shape(random_2d_array(5, 2)) == (5, 2)"
      ]
    },
    {
      "cell_type": "markdown",
      "metadata": {
        "id": "W0dqLbr1b2r0"
      },
      "source": [
        "**A2**: Ορίστε συνάρτηση που δέχεται δύο διδιάστατους πίνακες και επιστρέφει το γινόμενο του ανάστροφου του 1ου πίνακα με τον 2ο πίνακα με τη χρήση της numpy. Ακολουθούν τεστ ορθής λειτουργίας της συνάρτησης."
      ]
    },
    {
      "cell_type": "code",
      "execution_count": null,
      "metadata": {
        "deletable": false,
        "nbgrader": {
          "cell_type": "code",
          "checksum": "4ef0876d963ef6152ae9e8f6e2fdc7a5",
          "grade": false,
          "grade_id": "cell-c697582f03491bb7",
          "locked": false,
          "schema_version": 3,
          "solution": true,
          "task": false
        },
        "id": "XNcaNtWGb2r1"
      },
      "outputs": [],
      "source": [
        "def multiply_transpose(a, b):\n",
        "    \"\"\"Επιστρέφει το γινόμενο του ανάστροφου του 1ου πίνακα με τον 2ο πίνακα.\n",
        "\n",
        "    \"\"\"\n",
        "    return np.dot(a.T, b)"
      ]
    },
    {
      "cell_type": "code",
      "execution_count": null,
      "metadata": {
        "deletable": false,
        "editable": false,
        "nbgrader": {
          "cell_type": "code",
          "checksum": "c54ef19235f0620cfbf0983e572d5f4e",
          "grade": true,
          "grade_id": "cell-23e086f3e85d8f53",
          "locked": true,
          "points": 5,
          "schema_version": 3,
          "solution": false,
          "task": false
        },
        "id": "9cpHRc6cb2r2"
      },
      "outputs": [],
      "source": [
        "\"\"\"Τεστ επιστροφής πίνακα με τις σωστές διαστάσεις\"\"\"\n",
        "a = random_2d_array(3, 5)\n",
        "b = random_2d_array(3, 2)\n",
        "assert np.shape(multiply_transpose(a, b)) == (5, 2)\n",
        "assert np.shape(multiply_transpose(b, a)) == (2, 5)"
      ]
    },
    {
      "cell_type": "markdown",
      "metadata": {
        "id": "TJIOe_aBb2r3"
      },
      "source": [
        "## Μέρος Β: Γραμμικά μοντέλα (6 μονάδες) ##\n",
        "\n",
        "Σε αυτό το μέρος της άσκησης θα χτίσουμε ένα μοντέλο γραμμικής παλινδρόμησης από το μηδέν."
      ]
    },
    {
      "cell_type": "markdown",
      "metadata": {
        "id": "tdlajP_cb2r4"
      },
      "source": [
        "**B1:** Υλοποιήστε τη σιγμοειδή συνάρτηση $\\sigma(z)= \\dfrac{1}{1 + exp(-z)}$ με τη NumPy. Ακολουθούν τεστ ορθής λειτουργίας της συνάρτησης."
      ]
    },
    {
      "cell_type": "code",
      "execution_count": null,
      "metadata": {
        "deletable": false,
        "nbgrader": {
          "cell_type": "code",
          "checksum": "fc973cf2e7884a507e7eac2cfb3fe1ba",
          "grade": false,
          "grade_id": "cell-c21b32f8218a444e",
          "locked": false,
          "schema_version": 3,
          "solution": true,
          "task": false
        },
        "id": "FthpJQJmb2r5"
      },
      "outputs": [],
      "source": [
        "def sigmoid(z):\n",
        "    \"\"\"Υπολογίζει τη σιγμοειδή συνάρτηση.\"\"\"\n",
        "    return 1 / (1 + np.exp(-z))"
      ]
    },
    {
      "cell_type": "code",
      "execution_count": null,
      "metadata": {
        "deletable": false,
        "editable": false,
        "nbgrader": {
          "cell_type": "code",
          "checksum": "4c6d452aad1fba89422cc05702e86672",
          "grade": true,
          "grade_id": "cell-c522a25040bf7202",
          "locked": true,
          "points": 10,
          "schema_version": 3,
          "solution": false,
          "task": false
        },
        "id": "DPAc3C8Qb2r6"
      },
      "outputs": [],
      "source": [
        "\"\"\"Τεστ ορθού υπολογισμού σιγμοειδούς.\"\"\"\n",
        "assert sigmoid(0) == 0.5\n",
        "assert np.round(sigmoid(7),8) == 0.99908895\n",
        "assert np.round(sigmoid(-1),8) == 0.26894142"
      ]
    },
    {
      "cell_type": "markdown",
      "metadata": {
        "id": "7S9kmx-Kb2r7"
      },
      "source": [
        "**B2:** Υλοποιήστε κλάση για τον αλγόριθμο της λογιστικής παλινδρόμησης. Αρχικοποιήστε τις παραμέτρους σε μηδενικές τιμές. Αποθηκεύστε τες στο διάνυσμα στήλη theta. Η συνάρτηση fit πρέπει να δέχεται πίνακα X με τις τιμές των μεταβλητών εισόδου και διάνυσμα στήλη y με τις τιμές της μεταβλητής εξόδου. Η συνάρτηση predict πρέπει να δέχεται πίνακα Χ με τις τιμές των μεταβλητών εισόδου. Ακολουθούν τεστ ορθής λειτουργίας των συναρτήσεων."
      ]
    },
    {
      "cell_type": "code",
      "execution_count": null,
      "metadata": {
        "deletable": false,
        "nbgrader": {
          "cell_type": "code",
          "checksum": "0875eb2ff3083c0d5a365dfe1d72f3af",
          "grade": false,
          "grade_id": "cell-9df008253a524001",
          "locked": false,
          "schema_version": 3,
          "solution": true,
          "task": false
        },
        "id": "zItrWovMb2r8"
      },
      "outputs": [],
      "source": [
        "class MyLogisticRegression:\n",
        "    def __init__(self, num_iterations=2000, learning_rate=0.004):\n",
        "        self.theta = None\n",
        "        self.num_iterations = num_iterations\n",
        "        self.learning_rate = learning_rate\n",
        "\n",
        "    def fit(self, X, y):\n",
        "        m, n = X.shape\n",
        "        self.theta = np.zeros((n + 1, 1))  # Update shape to include bias term\n",
        "\n",
        "        # Add bias term to input matrix\n",
        "        X = np.hstack((np.ones((m, 1)), X))\n",
        "\n",
        "        for _ in range(self.num_iterations):\n",
        "            z = np.dot(X, self.theta)\n",
        "            h = sigmoid(z)\n",
        "            gradient = np.dot(X.T, (h - y)) / m\n",
        "            self.theta -= self.learning_rate * gradient\n",
        "\n",
        "    def predict(self, X):\n",
        "        if self.theta is None:\n",
        "            raise ValueError(\"Model not trained yet. Call fit function first.\")\n",
        "\n",
        "        m = X.shape[0]\n",
        "        X = np.hstack((np.ones((m, 1)), X))  # Add bias term\n",
        "        z = np.dot(X, self.theta)\n",
        "        h = sigmoid(z)\n",
        "        predictions = (h >= 0.5).astype(int)\n",
        "        return predictions"
      ]
    },
    {
      "cell_type": "code",
      "execution_count": null,
      "metadata": {
        "deletable": false,
        "editable": false,
        "nbgrader": {
          "cell_type": "code",
          "checksum": "68c608c214ab39f6197a28f8dd2dda0e",
          "grade": true,
          "grade_id": "cell-af8b565ded602dc1",
          "locked": true,
          "points": 25,
          "schema_version": 3,
          "solution": false,
          "task": false
        },
        "id": "06CfScWLb2r8"
      },
      "outputs": [],
      "source": [
        "\"\"\"Τεστ ορθής λειτουργίας fit\"\"\"\n",
        "from sklearn.datasets import make_blobs\n",
        "\n",
        "# δημιουργία δύο ομάδων από τυχαία σημεία με κέντρο 0,0,0 και 3,3,3 και τυπική απόκλιση 1\n",
        "centers = [[0.0, 0.0, 0.0], [3.0, 3.0, 3.0]]\n",
        "X, y = make_blobs(n_samples=200, centers=centers,\n",
        "                  random_state=47, shuffle=False)\n",
        "y = np.array(y).reshape(-1,1)\n",
        "\n",
        "lr = MyLogisticRegression()\n",
        "lr.fit(X, y)\n",
        "\n",
        "assert np.allclose(lr.theta, np.array([[-1.1772064],[0.5026043],[0.40811666],[0.55685573]]))"
      ]
    },
    {
      "cell_type": "code",
      "execution_count": null,
      "metadata": {
        "deletable": false,
        "editable": false,
        "nbgrader": {
          "cell_type": "code",
          "checksum": "e81990c6c217da1709ddd0caceeae095",
          "grade": true,
          "grade_id": "cell-e66896ed86d1a7ce",
          "locked": true,
          "points": 25,
          "schema_version": 3,
          "solution": false,
          "task": false
        },
        "id": "rmM1Vv3Ub2r9"
      },
      "outputs": [],
      "source": [
        "\"\"\"Τεστ ορθής λειτουργίας predict\"\"\"\n",
        "from sklearn.datasets import make_blobs\n",
        "\n",
        "# δημιουργία δύο ομάδων από τυχαία σημεία με κέντρο 0,0,0 και 3,3,3 και τυπική απόκλιση 1\n",
        "centers = [[0.0, 0.0, 0.0], [3.0, 3.0, 3.0]]\n",
        "X, y = make_blobs(n_samples=200, centers=centers,\n",
        "                  random_state=47, shuffle=False)\n",
        "y = np.array(y).reshape(-1,1)\n",
        "\n",
        "lr = MyLogisticRegression()\n",
        "lr.fit(X, y)\n",
        "\n",
        "assert np.allclose(lr.predict(X[[0,199],:]), np.array([[0],[1]]))"
      ]
    },
    {
      "cell_type": "markdown",
      "metadata": {
        "id": "JaFcgXb-b2r-"
      },
      "source": [
        "## Μέρος Γ: Ομαλοποίηση (3 μονάδες)\n",
        "\n",
        "**Γ1:** Υλοποιήστε κλάση για τον αλγόριθμο της λογιστικής παλινδρόμησης που να υποστηρίζει και ομαλοποίηση L1 και L2. Αρχικοποιήστε τις παραμέτρους σε μηδενικές τιμές. Αποθηκεύστε τες στο διάνυσμα στήλη theta. Η συνάρτηση fit πρέπει να δέχεται πίνακα X με τις τιμές των μεταβλητών εισόδου και διάνυσμα στήλη y με τις τιμές της μεταβλητής εξόδου. Ακολουθούν τεστ ορθής λειτουργίας."
      ]
    },
    {
      "cell_type": "code",
      "execution_count": null,
      "metadata": {
        "deletable": false,
        "nbgrader": {
          "cell_type": "code",
          "checksum": "e520ffd85a225409ee0103faedb42018",
          "grade": false,
          "grade_id": "cell-8f651a74aaad362c",
          "locked": false,
          "schema_version": 3,
          "solution": true,
          "task": false
        },
        "id": "bspLJ9y6b2r-"
      },
      "outputs": [],
      "source": [
        "class MyLogisticRegression:\n",
        "    def __init__(self, num_iterations=2000, learning_rate=0.004, penalty=\"None\", l=10):\n",
        "        self.theta = None\n",
        "        self.num_iterations = num_iterations\n",
        "        self.learning_rate = learning_rate\n",
        "        self.penalty = penalty\n",
        "        self.l = l\n",
        "\n",
        "    def fit(self, X, y):\n",
        "        m, n = X.shape\n",
        "        self.theta = np.zeros((n + 1, 1))  # Update shape to include bias term\n",
        "\n",
        "        # Add bias term to input matrix\n",
        "        X = np.hstack((np.ones((m, 1)), X))\n",
        "\n",
        "        for i in range(self.num_iterations):\n",
        "            z = np.dot(X, self.theta)\n",
        "            h = sigmoid(z)\n",
        "            gradient = np.dot(X.T, (h - y)) / m\n",
        "\n",
        "            if self.penalty == 'L1':\n",
        "                regularization = (self.l / m) * np.sign(self.theta)\n",
        "            elif self.penalty == 'L2':\n",
        "                regularization = (self.l / m) * self.theta\n",
        "            else:\n",
        "                regularization = 0\n",
        "\n",
        "            self.theta -= self.learning_rate * (gradient + regularization)\n",
        "\n",
        "    def predict(self, X):\n",
        "        if self.theta is None:\n",
        "            raise ValueError(\"Model not trained yet. Call fit function first.\")\n",
        "\n",
        "        m = X.shape[0]\n",
        "        X = np.hstack((np.ones((m, 1)), X))  # Add bias term\n",
        "        z = np.dot(X, self.theta)\n",
        "        h = sigmoid(z)\n",
        "        predictions = (h >= 0.5).astype(int)\n",
        "        return predictions\n",
        "\n"
      ]
    },
    {
      "cell_type": "code",
      "execution_count": null,
      "metadata": {
        "deletable": false,
        "editable": false,
        "nbgrader": {
          "cell_type": "code",
          "checksum": "feea6675fae2d5e1cb3acdb4528cc63f",
          "grade": true,
          "grade_id": "cell-7b4a1e422511b0dd",
          "locked": true,
          "points": 15,
          "schema_version": 3,
          "solution": false,
          "task": false
        },
        "id": "LcKIDX4Xb2r_"
      },
      "outputs": [],
      "source": [
        "\"\"\"Τεστ ορθής λειτουργίας fit L2\"\"\"\n",
        "from sklearn.datasets import make_blobs\n",
        "\n",
        "# δημιουργία δύο ομάδων από τυχαία σημεία με κέντρο 0,0,0 και 3,3,3 και τυπική απόκλιση 1\n",
        "centers = [[0.0, 0.0, 0.0], [3.0, 3.0, 3.0]]\n",
        "X, y = make_blobs(n_samples=200, centers=centers,\n",
        "                  random_state=47, shuffle=False)\n",
        "y = np.array(y).reshape(-1,1)\n",
        "\n",
        "lr = MyLogisticRegression(penalty=\"L2\", l=10)\n",
        "lr.fit(X, y)\n",
        "assert np.allclose(lr.theta, np.array([[-0.97858178],[0.44671962],[0.371177],[0.49835088]]))\n",
        "lr = MyLogisticRegression(penalty=\"L2\", l=100)\n",
        "lr.fit(X, y)\n",
        "assert np.allclose(lr.theta, np.array([[-0.30963538],[0.25825153],[0.23885811],[0.29480489]]))"
      ]
    },
    {
      "cell_type": "code",
      "execution_count": null,
      "metadata": {
        "deletable": false,
        "editable": false,
        "nbgrader": {
          "cell_type": "code",
          "checksum": "335e75a4d82a9d5de16d1940537d3f1b",
          "grade": true,
          "grade_id": "cell-2e2aab6691a11043",
          "locked": true,
          "points": 15,
          "schema_version": 3,
          "solution": false,
          "task": false
        },
        "id": "ME9oOkQ7b2sA"
      },
      "outputs": [],
      "source": [
        "\"\"\"Τεστ ορθής λειτουργίας fit L1\"\"\"\n",
        "from sklearn.datasets import make_blobs\n",
        "\n",
        "# δημιουργία δύο ομάδων από τυχαία σημεία με κέντρο 0,0,0 και 3,3,3 και τυπική απόκλιση 1\n",
        "centers = [[0.0, 0.0, 0.0], [3.0, 3.0, 3.0]]\n",
        "X, y = make_blobs(n_samples=200, centers=centers,\n",
        "                  random_state=47, shuffle=False)\n",
        "y = np.array(y).reshape(-1,1)\n",
        "\n",
        "lr = MyLogisticRegression(penalty=\"L1\", l=100)\n",
        "lr.fit(X, y)\n",
        "assert np.allclose(lr.theta, np.array([[-0.0021886],[0.03118559],[0.01540396],[0.17818003]]))"
      ]
    }
  ],
  "metadata": {
    "kernelspec": {
      "display_name": "Python 3 (ipykernel)",
      "language": "python",
      "name": "python3"
    },
    "language_info": {
      "codemirror_mode": {
        "name": "ipython",
        "version": 3
      },
      "file_extension": ".py",
      "mimetype": "text/x-python",
      "name": "python",
      "nbconvert_exporter": "python",
      "pygments_lexer": "ipython3",
      "version": "3.10.12"
    },
    "colab": {
      "provenance": [],
      "toc_visible": true
    }
  },
  "nbformat": 4,
  "nbformat_minor": 0
}